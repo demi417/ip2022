{
 "cells": [
  {
   "cell_type": "markdown",
   "metadata": {},
   "source": [
    "# 1.4.4 Smoothing Images"
   ]
  },
  {
   "cell_type": "markdown",
   "metadata": {},
   "source": [
    "## Kernel Convolution"
   ]
  },
  {
   "cell_type": "code",
   "execution_count": 1,
   "metadata": {},
   "outputs": [],
   "source": [
    "import cv2\n",
    "import numpy as np\n",
    "from matplotlib import pyplot as plt"
   ]
  },
  {
   "cell_type": "code",
   "execution_count": 18,
   "metadata": {},
   "outputs": [],
   "source": [
    "l=1\n",
    "kernel = np.array([[0,0,0],[0,1,-0],[0,0,0]],np.float32)"
   ]
  },
  {
   "cell_type": "code",
   "execution_count": 19,
   "metadata": {},
   "outputs": [
    {
     "data": {
      "text/plain": [
       "array([[0., 0., 0.],\n",
       "       [0., 1., 0.],\n",
       "       [0., 0., 0.]], dtype=float32)"
      ]
     },
     "execution_count": 19,
     "metadata": {},
     "output_type": "execute_result"
    }
   ],
   "source": [
    "kernel"
   ]
  },
  {
   "cell_type": "code",
   "execution_count": 20,
   "metadata": {},
   "outputs": [],
   "source": [
    "img = np.random.randint(10, size=(12,12))\n",
    "#img = np.ones((10,10),np.float32)"
   ]
  },
  {
   "cell_type": "code",
   "execution_count": 21,
   "metadata": {},
   "outputs": [
    {
     "data": {
      "text/plain": [
       "array([[4, 9, 7, 3, 5, 4, 7, 9, 7, 5, 9, 0],\n",
       "       [2, 9, 5, 6, 2, 7, 8, 5, 0, 3, 5, 4],\n",
       "       [7, 9, 4, 4, 9, 6, 1, 7, 1, 1, 5, 1],\n",
       "       [8, 2, 9, 2, 6, 8, 1, 1, 3, 3, 5, 9],\n",
       "       [9, 6, 3, 3, 4, 2, 5, 7, 5, 0, 5, 3],\n",
       "       [6, 9, 3, 5, 7, 3, 8, 6, 9, 0, 3, 8],\n",
       "       [2, 5, 7, 4, 8, 4, 8, 0, 1, 7, 9, 7],\n",
       "       [9, 0, 6, 6, 7, 1, 1, 6, 6, 4, 5, 2],\n",
       "       [1, 9, 7, 1, 6, 5, 9, 0, 5, 5, 7, 3],\n",
       "       [1, 9, 7, 5, 1, 3, 5, 3, 3, 6, 9, 6],\n",
       "       [1, 1, 1, 8, 7, 6, 5, 4, 5, 8, 3, 5],\n",
       "       [1, 4, 0, 1, 0, 7, 3, 0, 6, 8, 3, 6]])"
      ]
     },
     "execution_count": 21,
     "metadata": {},
     "output_type": "execute_result"
    }
   ],
   "source": [
    "img"
   ]
  },
  {
   "cell_type": "code",
   "execution_count": 6,
   "metadata": {},
   "outputs": [],
   "source": [
    "h,w=img.shape"
   ]
  },
  {
   "cell_type": "code",
   "execution_count": 7,
   "metadata": {},
   "outputs": [
    {
     "name": "stdout",
     "output_type": "stream",
     "text": [
      "12 12\n"
     ]
    }
   ],
   "source": [
    "print(h,w)"
   ]
  },
  {
   "cell_type": "code",
   "execution_count": 8,
   "metadata": {},
   "outputs": [],
   "source": [
    "#[*range(-2,3)]"
   ]
  },
  {
   "cell_type": "code",
   "execution_count": 9,
   "metadata": {},
   "outputs": [
    {
     "name": "stderr",
     "output_type": "stream",
     "text": [
      "C:\\Users\\Administrator1\\AppData\\Local\\Temp\\ipykernel_10796\\2160328971.py:1: DeprecationWarning: `np.int` is a deprecated alias for the builtin `int`. To silence this warning, use `int` by itself. Doing this will not modify any behavior and is safe. When replacing `np.int`, you may wish to use e.g. `np.int64` or `np.int32` to specify the precision. If you wish to review your current use, check the release note link for additional information.\n",
      "Deprecated in NumPy 1.20; for more details and guidance: https://numpy.org/devdocs/release/1.20.0-notes.html#deprecations\n",
      "  dst = np.zeros((h,w),np.int)\n"
     ]
    }
   ],
   "source": [
    "dst = np.zeros((h,w),np.int)"
   ]
  },
  {
   "cell_type": "code",
   "execution_count": 10,
   "metadata": {},
   "outputs": [],
   "source": [
    "for i in range(l,h-l):\n",
    "    for j in range(l,w-l):\n",
    "        t=0\n",
    "        for p in range(-l,l+1):\n",
    "            for q in range(-l,l+1):\n",
    "                t += kernel[p+l,q+l]*img[i+p,j+q]\n",
    "        dst[i,j]=t        "
   ]
  },
  {
   "cell_type": "code",
   "execution_count": 11,
   "metadata": {},
   "outputs": [
    {
     "data": {
      "text/plain": [
       "array([[4, 1, 4, 2, 9, 6, 8, 2, 9, 8, 6, 6],\n",
       "       [9, 2, 6, 8, 9, 8, 4, 3, 7, 5, 9, 3],\n",
       "       [3, 0, 1, 9, 2, 7, 8, 8, 6, 7, 3, 8],\n",
       "       [8, 7, 7, 3, 3, 3, 0, 8, 5, 5, 2, 6],\n",
       "       [7, 5, 1, 0, 3, 5, 2, 1, 9, 5, 5, 2],\n",
       "       [1, 4, 2, 7, 3, 5, 8, 9, 6, 8, 5, 4],\n",
       "       [4, 4, 5, 2, 0, 0, 4, 4, 3, 4, 8, 9],\n",
       "       [0, 1, 0, 6, 4, 3, 8, 5, 9, 4, 3, 0],\n",
       "       [1, 7, 8, 4, 5, 2, 5, 3, 9, 3, 2, 1],\n",
       "       [4, 2, 3, 6, 8, 7, 4, 7, 7, 2, 4, 5],\n",
       "       [5, 6, 5, 7, 8, 9, 8, 6, 0, 7, 4, 2],\n",
       "       [2, 2, 7, 4, 2, 4, 7, 8, 3, 3, 7, 6]])"
      ]
     },
     "execution_count": 11,
     "metadata": {},
     "output_type": "execute_result"
    }
   ],
   "source": [
    "img"
   ]
  },
  {
   "cell_type": "code",
   "execution_count": 12,
   "metadata": {},
   "outputs": [
    {
     "data": {
      "text/plain": [
       "array([[  0,   0,   0,   0,   0,   0,   0,   0,   0,   0,   0,   0],\n",
       "       [  0,  -8,   9,   6,   9,   6, -11,  -9,   5, -11,  19,   0],\n",
       "       [  0, -13, -18,  22, -20,   7,  13,   7,  -3,   9, -14,   0],\n",
       "       [  0,   8,  16,  -7,   1,  -3, -21,  18,  -8,   1, -11,   0],\n",
       "       [  0,   1, -10, -14,   1,   7,  -6, -24,  19,  -7,   6,   0],\n",
       "       [  0,   4,  -9,  21,  -3,   4,  12,  17,  -5,  12,  -5,   0],\n",
       "       [  0,   2,  12, -10,  -9, -12,  -4,  -5, -11,  -7,  11,   0],\n",
       "       [  0,  -7, -20,  14,   2,  -2,  15,  -4,  15,  -3,  -2,   0],\n",
       "       [  0,  16,  18,  -9,   2, -12,   3, -14,  14,  -5,  -3,   0],\n",
       "       [  0, -12,  -9,   2,   6,   5, -11,   8,  10, -13,   3,   0],\n",
       "       [  0,  10,  -3,   5,   6,   9,   6,   1, -23,  19,  -4,   0],\n",
       "       [  0,   0,   0,   0,   0,   0,   0,   0,   0,   0,   0,   0]])"
      ]
     },
     "execution_count": 12,
     "metadata": {},
     "output_type": "execute_result"
    }
   ],
   "source": [
    "dst"
   ]
  },
  {
   "cell_type": "code",
   "execution_count": 13,
   "metadata": {},
   "outputs": [],
   "source": [
    "img = cv2.imread('lena.png', 0)"
   ]
  },
  {
   "cell_type": "code",
   "execution_count": 14,
   "metadata": {},
   "outputs": [],
   "source": [
    "h,w=img.shape"
   ]
  },
  {
   "cell_type": "code",
   "execution_count": 15,
   "metadata": {},
   "outputs": [],
   "source": [
    "dst = np.zeros((h-2*l,w-2*l),np.uint8)"
   ]
  },
  {
   "cell_type": "code",
   "execution_count": 16,
   "metadata": {},
   "outputs": [],
   "source": [
    "for i in range(l,h-l):\n",
    "    for j in range(l,w-l):\n",
    "        t=0\n",
    "        for p in range(-l,l+1):\n",
    "            for q in range(-l,l+1):\n",
    "                t += kernel[p+l,q+l]*img[i+p,j+q]\n",
    "        dst[i-l,j-l]=t "
   ]
  },
  {
   "cell_type": "code",
   "execution_count": 22,
   "metadata": {},
   "outputs": [
    {
     "ename": "error",
     "evalue": "OpenCV(4.6.0) D:/a/opencv-python/opencv-python/opencv/modules/highgui/src/precomp.hpp:155: error: (-215:Assertion failed) src_depth != CV_16F && src_depth != CV_32S in function 'convertToShow'\n",
     "output_type": "error",
     "traceback": [
      "\u001b[1;31m---------------------------------------------------------------------------\u001b[0m",
      "\u001b[1;31merror\u001b[0m                                     Traceback (most recent call last)",
      "\u001b[1;32mc:\\Users\\Administrator1\\chap144kc.ipynb 셀 19\u001b[0m in \u001b[0;36m<cell line: 1>\u001b[1;34m()\u001b[0m\n\u001b[1;32m----> <a href='vscode-notebook-cell:/c%3A/Users/Administrator1/chap144kc.ipynb#X24sZmlsZQ%3D%3D?line=0'>1</a>\u001b[0m cv2\u001b[39m.\u001b[39;49mimshow(\u001b[39m'\u001b[39;49m\u001b[39mimg\u001b[39;49m\u001b[39m'\u001b[39;49m,img)\n\u001b[0;32m      <a href='vscode-notebook-cell:/c%3A/Users/Administrator1/chap144kc.ipynb#X24sZmlsZQ%3D%3D?line=1'>2</a>\u001b[0m cv2\u001b[39m.\u001b[39mimshow(\u001b[39m'\u001b[39m\u001b[39mdst\u001b[39m\u001b[39m'\u001b[39m,dst)\n\u001b[0;32m      <a href='vscode-notebook-cell:/c%3A/Users/Administrator1/chap144kc.ipynb#X24sZmlsZQ%3D%3D?line=2'>3</a>\u001b[0m cv2\u001b[39m.\u001b[39mwaitKey(\u001b[39m0\u001b[39m)\n",
      "\u001b[1;31merror\u001b[0m: OpenCV(4.6.0) D:/a/opencv-python/opencv-python/opencv/modules/highgui/src/precomp.hpp:155: error: (-215:Assertion failed) src_depth != CV_16F && src_depth != CV_32S in function 'convertToShow'\n"
     ]
    },
    {
     "ename": "",
     "evalue": "",
     "output_type": "error",
     "traceback": [
      "\u001b[1;31m현재 셀 또는 이전 셀에서 코드를 실행하는 동안 Kernel이 충돌했습니다. 셀의 코드를 검토하여 오류의 가능한 원인을 식별하세요. 자세한 내용을 보려면 <a href='https://aka.ms/vscodeJupyterKernelCrash'> 여기 </a> 를 클릭하세요. 자세한 내용은 Jupyter <a href='command:jupyter.viewOutput'>로그</a>를 참조하세요."
     ]
    }
   ],
   "source": [
    "cv2.imshow('img',img)\n",
    "cv2.imshow('dst',dst)\n",
    "cv2.waitKey(0)\n",
    "cv2.destroyAllWindows()"
   ]
  },
  {
   "cell_type": "code",
   "execution_count": null,
   "metadata": {},
   "outputs": [],
   "source": []
  }
 ],
 "metadata": {
  "kernelspec": {
   "display_name": "Python 3.8.13 ('opencv')",
   "language": "python",
   "name": "python3"
  },
  "language_info": {
   "codemirror_mode": {
    "name": "ipython",
    "version": 3
   },
   "file_extension": ".py",
   "mimetype": "text/x-python",
   "name": "python",
   "nbconvert_exporter": "python",
   "pygments_lexer": "ipython3",
   "version": "3.8.13"
  },
  "vscode": {
   "interpreter": {
    "hash": "270f0b94a6fa064f8b2281c477ed01edcd52ab37c35fdf6f50ead90768c415c5"
   }
  }
 },
 "nbformat": 4,
 "nbformat_minor": 4
}
